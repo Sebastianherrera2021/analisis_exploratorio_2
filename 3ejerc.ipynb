{
 "cells": [
  {
   "cell_type": "markdown",
   "id": "7de35c13-8d73-484d-bc57-5749844a8914",
   "metadata": {},
   "source": [
    "# JUAN SEBASTIAN HERRERA SANCHEZ"
   ]
  },
  {
   "cell_type": "markdown",
   "id": "cb5bb67a-66ce-494e-b830-36050ff78527",
   "metadata": {},
   "source": [
    "## Analisis de datos en Python, caso titanic."
   ]
  },
  {
   "cell_type": "code",
   "execution_count": 19,
   "id": "6e8445bd-a076-4c6d-8959-28908d3492ee",
   "metadata": {},
   "outputs": [],
   "source": [
    "## VOCABULARIO\n",
    "### Supervivencia\t0 = No, 1 = Sí\n",
    "### pclase\tclase de boleto\t1 = 1°, 2 = 2°, 3 = 3°\n",
    "### sexo\tSexo\t\n",
    "### Edad\tEdad en años\t\n",
    "### sibsp\t# de hermanos/cónyuges a bordo del Titanic\t\n",
    "### tostar\t# de padres/hijos a bordo del Titanic\t\n",
    "### boleto\tNumero de ticket\t\n",
    "### tarifa\ttarifa de pasajero\t\n",
    "### cabina\tNúmero de cabina\t\n",
    "### embarcado\tPuerto de embarque\tC = Cherburgo, Q = Queenstown, S = Southampton\n",
    "### Notas Variables\n",
    "### pclass : un indicador del nivel socioeconómico (SES)\n",
    "### 1.° = superior\n",
    "### 2.° = medio\n",
    "### 3.° = inferior\n",
    "### edad : la edad es fraccionaria si es menor que 1. Si se estima la edad, tiene la forma de xx,5\n",
    "### sibsp : el conjunto de datos define las relaciones familiares de esta manera...\n",
    "### Hermano = hermano, hermana, hermanastro, hermanastra\n",
    "### Cónyuge = esposo, esposa (se ignoraron las amantes y los prometidos)\n",
    "### parch : El conjunto de datos define las relaciones familiares de esta manera...\n",
    "### Padre = madre, padre\n",
    "### Hijo = hija, hijo, hijastra, hijastro\n",
    "### Algunos niños viajaron solo con una niñera, por lo tanto, parch=0 para ellos."
   ]
  },
  {
   "cell_type": "markdown",
   "id": "740a9cf5-6cbc-4879-a9f5-aa6b3e76140c",
   "metadata": {},
   "source": [
    "# Descripicion de datos"
   ]
  },
  {
   "cell_type": "code",
   "execution_count": null,
   "id": "6c08ad05-9541-48b2-8965-3773f3073102",
   "metadata": {},
   "outputs": [],
   "source": [
    "## Descripción general\n",
    "### Los datos se han dividido en dos grupos:\n",
    "\n",
    "## *conjunto de entrenamiento (train.csv)\n",
    "## *conjunto de prueba (test.csv)\n",
    "\n",
    "### El conjunto de entrenamiento debe usarse para construir sus modelos de aprendizaje automático. \n",
    "### Para el conjunto de entrenamiento, proporcionamos el resultado (también conocido como \"verdad sobre el terreno\") \n",
    "### para cada pasajero. Su modelo se basará en \"características\" como el género y la clase de los pasajeros. También puede \n",
    "### utilizar la ingeniería de características para crear nuevas características.\n",
    "\n",
    "### El conjunto de prueba debe usarse para ver qué tan bien se desempeña su modelo en datos no vistos. Para el conjunto de \n",
    "### prueba, no proporcionamos la verdad en tierra para cada pasajero. Es su trabajo predecir estos resultados. Para cada \n",
    "### pasajero en el conjunto de prueba, use el modelo que entrenó para predecir si sobrevivieron o no al hundimiento del Titanic.\n",
    "\n",
    "### También incluimos gender_submission.csv , un conjunto de predicciones que asumen que todas y solo las mujeres sobreviven, \n",
    "### como un ejemplo de cómo debería verse un archivo de envío."
   ]
  },
  {
   "cell_type": "markdown",
   "id": "af066d9e-080d-4126-8794-2527cb7c501e",
   "metadata": {},
   "source": [
    "### link de apoyo: https://github.com/gonzalezgouveia/proyecto-titanic"
   ]
  },
  {
   "cell_type": "markdown",
   "id": "36e6c686-3eb1-48b4-a314-a621fefed1d8",
   "metadata": {},
   "source": [
    "## Pasos de estudio"
   ]
  },
  {
   "cell_type": "code",
   "execution_count": 17,
   "id": "acbc602b-a314-4e0d-bac5-7e8a1832bca5",
   "metadata": {},
   "outputs": [],
   "source": [
    "#### 1. Carga de datos\n",
    "#### 2. Exploracion\n",
    "#### 3. Procesamiento\n",
    "#### 4. Modelos\n",
    "#### 5. Evaluacion\n",
    "#### 6. Prediccion\n",
    "#### 7. Conclusion y proximos pasos"
   ]
  },
  {
   "cell_type": "markdown",
   "id": "80fcc904-36e3-463b-b4af-46653b778143",
   "metadata": {
    "tags": []
   },
   "source": [
    "## 1. Cargando datos"
   ]
  },
  {
   "cell_type": "code",
   "execution_count": 188,
   "id": "f0da6eec-e2c4-48cf-918e-99e992c4f457",
   "metadata": {},
   "outputs": [],
   "source": [
    "import numpy as np\n",
    "import pandas as pd\n",
    "import matplotlib.pyplot as plt"
   ]
  },
  {
   "cell_type": "code",
   "execution_count": 189,
   "id": "91ab8cf3-6d5d-4f7d-a84b-d5351d366910",
   "metadata": {},
   "outputs": [],
   "source": [
    "train=pd.read_csv(\"C:/Users/LAURA/Desktop/cursos data science/3_ejerc_analisis_Datos/train.csv\")\n",
    "test=pd.read_csv(\"C:/Users/LAURA/Desktop/cursos data science/3_ejerc_analisis_Datos/test.csv\")"
   ]
  },
  {
   "cell_type": "code",
   "execution_count": 190,
   "id": "0e2b89ea-5452-49bb-af62-3337906bbd35",
   "metadata": {},
   "outputs": [
    {
     "data": {
      "text/html": [
       "<div>\n",
       "<style scoped>\n",
       "    .dataframe tbody tr th:only-of-type {\n",
       "        vertical-align: middle;\n",
       "    }\n",
       "\n",
       "    .dataframe tbody tr th {\n",
       "        vertical-align: top;\n",
       "    }\n",
       "\n",
       "    .dataframe thead th {\n",
       "        text-align: right;\n",
       "    }\n",
       "</style>\n",
       "<table border=\"1\" class=\"dataframe\">\n",
       "  <thead>\n",
       "    <tr style=\"text-align: right;\">\n",
       "      <th></th>\n",
       "      <th>PassengerId</th>\n",
       "      <th>Survived</th>\n",
       "      <th>Pclass</th>\n",
       "      <th>Name</th>\n",
       "      <th>Sex</th>\n",
       "      <th>Age</th>\n",
       "      <th>SibSp</th>\n",
       "      <th>Parch</th>\n",
       "      <th>Ticket</th>\n",
       "      <th>Fare</th>\n",
       "      <th>Cabin</th>\n",
       "      <th>Embarked</th>\n",
       "    </tr>\n",
       "  </thead>\n",
       "  <tbody>\n",
       "    <tr>\n",
       "      <th>0</th>\n",
       "      <td>1</td>\n",
       "      <td>0</td>\n",
       "      <td>3</td>\n",
       "      <td>Braund, Mr. Owen Harris</td>\n",
       "      <td>male</td>\n",
       "      <td>22.0</td>\n",
       "      <td>1</td>\n",
       "      <td>0</td>\n",
       "      <td>A/5 21171</td>\n",
       "      <td>7.2500</td>\n",
       "      <td>NaN</td>\n",
       "      <td>S</td>\n",
       "    </tr>\n",
       "    <tr>\n",
       "      <th>1</th>\n",
       "      <td>2</td>\n",
       "      <td>1</td>\n",
       "      <td>1</td>\n",
       "      <td>Cumings, Mrs. John Bradley (Florence Briggs Th...</td>\n",
       "      <td>female</td>\n",
       "      <td>38.0</td>\n",
       "      <td>1</td>\n",
       "      <td>0</td>\n",
       "      <td>PC 17599</td>\n",
       "      <td>71.2833</td>\n",
       "      <td>C85</td>\n",
       "      <td>C</td>\n",
       "    </tr>\n",
       "    <tr>\n",
       "      <th>2</th>\n",
       "      <td>3</td>\n",
       "      <td>1</td>\n",
       "      <td>3</td>\n",
       "      <td>Heikkinen, Miss. Laina</td>\n",
       "      <td>female</td>\n",
       "      <td>26.0</td>\n",
       "      <td>0</td>\n",
       "      <td>0</td>\n",
       "      <td>STON/O2. 3101282</td>\n",
       "      <td>7.9250</td>\n",
       "      <td>NaN</td>\n",
       "      <td>S</td>\n",
       "    </tr>\n",
       "    <tr>\n",
       "      <th>3</th>\n",
       "      <td>4</td>\n",
       "      <td>1</td>\n",
       "      <td>1</td>\n",
       "      <td>Futrelle, Mrs. Jacques Heath (Lily May Peel)</td>\n",
       "      <td>female</td>\n",
       "      <td>35.0</td>\n",
       "      <td>1</td>\n",
       "      <td>0</td>\n",
       "      <td>113803</td>\n",
       "      <td>53.1000</td>\n",
       "      <td>C123</td>\n",
       "      <td>S</td>\n",
       "    </tr>\n",
       "    <tr>\n",
       "      <th>4</th>\n",
       "      <td>5</td>\n",
       "      <td>0</td>\n",
       "      <td>3</td>\n",
       "      <td>Allen, Mr. William Henry</td>\n",
       "      <td>male</td>\n",
       "      <td>35.0</td>\n",
       "      <td>0</td>\n",
       "      <td>0</td>\n",
       "      <td>373450</td>\n",
       "      <td>8.0500</td>\n",
       "      <td>NaN</td>\n",
       "      <td>S</td>\n",
       "    </tr>\n",
       "  </tbody>\n",
       "</table>\n",
       "</div>"
      ],
      "text/plain": [
       "   PassengerId  Survived  Pclass  \\\n",
       "0            1         0       3   \n",
       "1            2         1       1   \n",
       "2            3         1       3   \n",
       "3            4         1       1   \n",
       "4            5         0       3   \n",
       "\n",
       "                                                Name     Sex   Age  SibSp  \\\n",
       "0                            Braund, Mr. Owen Harris    male  22.0      1   \n",
       "1  Cumings, Mrs. John Bradley (Florence Briggs Th...  female  38.0      1   \n",
       "2                             Heikkinen, Miss. Laina  female  26.0      0   \n",
       "3       Futrelle, Mrs. Jacques Heath (Lily May Peel)  female  35.0      1   \n",
       "4                           Allen, Mr. William Henry    male  35.0      0   \n",
       "\n",
       "   Parch            Ticket     Fare Cabin Embarked  \n",
       "0      0         A/5 21171   7.2500   NaN        S  \n",
       "1      0          PC 17599  71.2833   C85        C  \n",
       "2      0  STON/O2. 3101282   7.9250   NaN        S  \n",
       "3      0            113803  53.1000  C123        S  \n",
       "4      0            373450   8.0500   NaN        S  "
      ]
     },
     "execution_count": 190,
     "metadata": {},
     "output_type": "execute_result"
    }
   ],
   "source": [
    "train.head()"
   ]
  },
  {
   "cell_type": "markdown",
   "id": "89de0c87-5970-483a-8603-249001cb57d3",
   "metadata": {},
   "source": [
    "## 2. Explorando datos"
   ]
  },
  {
   "cell_type": "code",
   "execution_count": 191,
   "id": "d17dc8d6-2d70-48f9-85f7-84fa076d08ea",
   "metadata": {},
   "outputs": [
    {
     "data": {
      "text/plain": [
       "Index(['PassengerId', 'Survived', 'Pclass', 'Name', 'Sex', 'Age', 'SibSp',\n",
       "       'Parch', 'Ticket', 'Fare', 'Cabin', 'Embarked'],\n",
       "      dtype='object')"
      ]
     },
     "execution_count": 191,
     "metadata": {},
     "output_type": "execute_result"
    }
   ],
   "source": [
    "# que columnas tienen los datos?\n",
    "train.columns"
   ]
  },
  {
   "cell_type": "code",
   "execution_count": 192,
   "id": "93b62c15-d098-4e3d-b1f1-2dbe656fa01c",
   "metadata": {},
   "outputs": [
    {
     "data": {
      "text/plain": [
       "(891, 12)"
      ]
     },
     "execution_count": 192,
     "metadata": {},
     "output_type": "execute_result"
    }
   ],
   "source": [
    "# Que tamaño tienen los datos?\n",
    "train.shape"
   ]
  },
  {
   "cell_type": "code",
   "execution_count": 193,
   "id": "1708894e-e3aa-49f7-a877-5d2ce027f346",
   "metadata": {},
   "outputs": [
    {
     "name": "stdout",
     "output_type": "stream",
     "text": [
      "<class 'pandas.core.frame.DataFrame'>\n",
      "RangeIndex: 891 entries, 0 to 890\n",
      "Data columns (total 12 columns):\n",
      " #   Column       Non-Null Count  Dtype  \n",
      "---  ------       --------------  -----  \n",
      " 0   PassengerId  891 non-null    int64  \n",
      " 1   Survived     891 non-null    int64  \n",
      " 2   Pclass       891 non-null    int64  \n",
      " 3   Name         891 non-null    object \n",
      " 4   Sex          891 non-null    object \n",
      " 5   Age          714 non-null    float64\n",
      " 6   SibSp        891 non-null    int64  \n",
      " 7   Parch        891 non-null    int64  \n",
      " 8   Ticket       891 non-null    object \n",
      " 9   Fare         891 non-null    float64\n",
      " 10  Cabin        204 non-null    object \n",
      " 11  Embarked     889 non-null    object \n",
      "dtypes: float64(2), int64(5), object(5)\n",
      "memory usage: 83.7+ KB\n"
     ]
    }
   ],
   "source": [
    "# Hay valores nulos en los datos?\n",
    "train.info()\n",
    "#para ver datos nulos"
   ]
  },
  {
   "cell_type": "code",
   "execution_count": 194,
   "id": "0e3ac68d-b5d7-42cf-b304-6510f31bc04f",
   "metadata": {},
   "outputs": [
    {
     "data": {
      "text/html": [
       "<div>\n",
       "<style scoped>\n",
       "    .dataframe tbody tr th:only-of-type {\n",
       "        vertical-align: middle;\n",
       "    }\n",
       "\n",
       "    .dataframe tbody tr th {\n",
       "        vertical-align: top;\n",
       "    }\n",
       "\n",
       "    .dataframe thead th {\n",
       "        text-align: right;\n",
       "    }\n",
       "</style>\n",
       "<table border=\"1\" class=\"dataframe\">\n",
       "  <thead>\n",
       "    <tr style=\"text-align: right;\">\n",
       "      <th></th>\n",
       "      <th>PassengerId</th>\n",
       "      <th>Survived</th>\n",
       "      <th>Pclass</th>\n",
       "      <th>Age</th>\n",
       "      <th>SibSp</th>\n",
       "      <th>Parch</th>\n",
       "      <th>Fare</th>\n",
       "    </tr>\n",
       "  </thead>\n",
       "  <tbody>\n",
       "    <tr>\n",
       "      <th>count</th>\n",
       "      <td>891.000000</td>\n",
       "      <td>891.000000</td>\n",
       "      <td>891.000000</td>\n",
       "      <td>714.000000</td>\n",
       "      <td>891.000000</td>\n",
       "      <td>891.000000</td>\n",
       "      <td>891.000000</td>\n",
       "    </tr>\n",
       "    <tr>\n",
       "      <th>mean</th>\n",
       "      <td>446.000000</td>\n",
       "      <td>0.383838</td>\n",
       "      <td>2.308642</td>\n",
       "      <td>29.699118</td>\n",
       "      <td>0.523008</td>\n",
       "      <td>0.381594</td>\n",
       "      <td>32.204208</td>\n",
       "    </tr>\n",
       "    <tr>\n",
       "      <th>std</th>\n",
       "      <td>257.353842</td>\n",
       "      <td>0.486592</td>\n",
       "      <td>0.836071</td>\n",
       "      <td>14.526497</td>\n",
       "      <td>1.102743</td>\n",
       "      <td>0.806057</td>\n",
       "      <td>49.693429</td>\n",
       "    </tr>\n",
       "    <tr>\n",
       "      <th>min</th>\n",
       "      <td>1.000000</td>\n",
       "      <td>0.000000</td>\n",
       "      <td>1.000000</td>\n",
       "      <td>0.420000</td>\n",
       "      <td>0.000000</td>\n",
       "      <td>0.000000</td>\n",
       "      <td>0.000000</td>\n",
       "    </tr>\n",
       "    <tr>\n",
       "      <th>25%</th>\n",
       "      <td>223.500000</td>\n",
       "      <td>0.000000</td>\n",
       "      <td>2.000000</td>\n",
       "      <td>20.125000</td>\n",
       "      <td>0.000000</td>\n",
       "      <td>0.000000</td>\n",
       "      <td>7.910400</td>\n",
       "    </tr>\n",
       "    <tr>\n",
       "      <th>50%</th>\n",
       "      <td>446.000000</td>\n",
       "      <td>0.000000</td>\n",
       "      <td>3.000000</td>\n",
       "      <td>28.000000</td>\n",
       "      <td>0.000000</td>\n",
       "      <td>0.000000</td>\n",
       "      <td>14.454200</td>\n",
       "    </tr>\n",
       "    <tr>\n",
       "      <th>75%</th>\n",
       "      <td>668.500000</td>\n",
       "      <td>1.000000</td>\n",
       "      <td>3.000000</td>\n",
       "      <td>38.000000</td>\n",
       "      <td>1.000000</td>\n",
       "      <td>0.000000</td>\n",
       "      <td>31.000000</td>\n",
       "    </tr>\n",
       "    <tr>\n",
       "      <th>max</th>\n",
       "      <td>891.000000</td>\n",
       "      <td>1.000000</td>\n",
       "      <td>3.000000</td>\n",
       "      <td>80.000000</td>\n",
       "      <td>8.000000</td>\n",
       "      <td>6.000000</td>\n",
       "      <td>512.329200</td>\n",
       "    </tr>\n",
       "  </tbody>\n",
       "</table>\n",
       "</div>"
      ],
      "text/plain": [
       "       PassengerId    Survived      Pclass         Age       SibSp  \\\n",
       "count   891.000000  891.000000  891.000000  714.000000  891.000000   \n",
       "mean    446.000000    0.383838    2.308642   29.699118    0.523008   \n",
       "std     257.353842    0.486592    0.836071   14.526497    1.102743   \n",
       "min       1.000000    0.000000    1.000000    0.420000    0.000000   \n",
       "25%     223.500000    0.000000    2.000000   20.125000    0.000000   \n",
       "50%     446.000000    0.000000    3.000000   28.000000    0.000000   \n",
       "75%     668.500000    1.000000    3.000000   38.000000    1.000000   \n",
       "max     891.000000    1.000000    3.000000   80.000000    8.000000   \n",
       "\n",
       "            Parch        Fare  \n",
       "count  891.000000  891.000000  \n",
       "mean     0.381594   32.204208  \n",
       "std      0.806057   49.693429  \n",
       "min      0.000000    0.000000  \n",
       "25%      0.000000    7.910400  \n",
       "50%      0.000000   14.454200  \n",
       "75%      0.000000   31.000000  \n",
       "max      6.000000  512.329200  "
      ]
     },
     "execution_count": 194,
     "metadata": {},
     "output_type": "execute_result"
    }
   ],
   "source": [
    "# Hay valores nulos en los datos?\n",
    "train.describe()\n",
    "#distribucion de variables numericas"
   ]
  },
  {
   "cell_type": "code",
   "execution_count": 195,
   "id": "2609094c-c258-4496-b074-9ddf015e0f12",
   "metadata": {},
   "outputs": [
    {
     "data": {
      "text/html": [
       "<div>\n",
       "<style scoped>\n",
       "    .dataframe tbody tr th:only-of-type {\n",
       "        vertical-align: middle;\n",
       "    }\n",
       "\n",
       "    .dataframe tbody tr th {\n",
       "        vertical-align: top;\n",
       "    }\n",
       "\n",
       "    .dataframe thead th {\n",
       "        text-align: right;\n",
       "    }\n",
       "</style>\n",
       "<table border=\"1\" class=\"dataframe\">\n",
       "  <thead>\n",
       "    <tr style=\"text-align: right;\">\n",
       "      <th></th>\n",
       "      <th>Name</th>\n",
       "      <th>Sex</th>\n",
       "      <th>Ticket</th>\n",
       "      <th>Cabin</th>\n",
       "      <th>Embarked</th>\n",
       "    </tr>\n",
       "  </thead>\n",
       "  <tbody>\n",
       "    <tr>\n",
       "      <th>count</th>\n",
       "      <td>891</td>\n",
       "      <td>891</td>\n",
       "      <td>891</td>\n",
       "      <td>204</td>\n",
       "      <td>889</td>\n",
       "    </tr>\n",
       "    <tr>\n",
       "      <th>unique</th>\n",
       "      <td>891</td>\n",
       "      <td>2</td>\n",
       "      <td>681</td>\n",
       "      <td>147</td>\n",
       "      <td>3</td>\n",
       "    </tr>\n",
       "    <tr>\n",
       "      <th>top</th>\n",
       "      <td>Braund, Mr. Owen Harris</td>\n",
       "      <td>male</td>\n",
       "      <td>347082</td>\n",
       "      <td>B96 B98</td>\n",
       "      <td>S</td>\n",
       "    </tr>\n",
       "    <tr>\n",
       "      <th>freq</th>\n",
       "      <td>1</td>\n",
       "      <td>577</td>\n",
       "      <td>7</td>\n",
       "      <td>4</td>\n",
       "      <td>644</td>\n",
       "    </tr>\n",
       "  </tbody>\n",
       "</table>\n",
       "</div>"
      ],
      "text/plain": [
       "                           Name   Sex  Ticket    Cabin Embarked\n",
       "count                       891   891     891      204      889\n",
       "unique                      891     2     681      147        3\n",
       "top     Braund, Mr. Owen Harris  male  347082  B96 B98        S\n",
       "freq                          1   577       7        4      644"
      ]
     },
     "execution_count": 195,
     "metadata": {},
     "output_type": "execute_result"
    }
   ],
   "source": [
    "# como se comportan las variables categoricas\n",
    "train.describe(include=[\"O\"])"
   ]
  },
  {
   "cell_type": "code",
   "execution_count": 196,
   "id": "18824304-18be-4693-9ef2-5e1063e40707",
   "metadata": {},
   "outputs": [],
   "source": [
    "# En cabina faltan y en embargo tambien faltan oersonas.\n",
    "# Habian dos categorias de sexo\n",
    "# Habian tres categorias de embarque de donde salia la gente\n",
    "# top son los que mas se repiten y freq la grecuencia"
   ]
  },
  {
   "cell_type": "markdown",
   "id": "b56fc42a-c3d8-46dd-b3e5-f5c7c0348a6a",
   "metadata": {},
   "source": [
    "## 2.1. EDA: Estudio de variable target"
   ]
  },
  {
   "cell_type": "code",
   "execution_count": 197,
   "id": "5c3f43a2-af02-4c77-84e8-39a091396bd8",
   "metadata": {},
   "outputs": [],
   "source": [
    "# Para saber como se comportaron los sobrevivientes respecto a otras variables"
   ]
  },
  {
   "cell_type": "code",
   "execution_count": 198,
   "id": "f1990577-113d-46df-a1d6-dc397861da4d",
   "metadata": {},
   "outputs": [
    {
     "data": {
      "text/plain": [
       "Survived\n",
       "0    549\n",
       "1    342\n",
       "Name: PassengerId, dtype: int64"
      ]
     },
     "execution_count": 198,
     "metadata": {},
     "output_type": "execute_result"
    }
   ],
   "source": [
    "# cuantos hay:\n",
    "train.groupby([\"Survived\"]).count()[\"PassengerId\"]"
   ]
  },
  {
   "cell_type": "code",
   "execution_count": 199,
   "id": "e981e380-7eb8-483c-8735-0d8d1fbd651d",
   "metadata": {},
   "outputs": [],
   "source": [
    "# 549 no sobrevivieron\n",
    "# 342 pasajeros que sobrevivieron"
   ]
  },
  {
   "cell_type": "code",
   "execution_count": 200,
   "id": "bf9a1961-c28d-4b35-954a-94a44d88556a",
   "metadata": {},
   "outputs": [
    {
     "name": "stdout",
     "output_type": "stream",
     "text": [
      "Survived  Sex   \n",
      "0         female     81\n",
      "          male      468\n",
      "1         female    233\n",
      "          male      109\n",
      "Name: PassengerId, dtype: int64\n"
     ]
    },
    {
     "data": {
      "image/png": "[encoded data removed]",
      "text/plain": [
       "<Figure size 640x480 with 1 Axes>"
      ]
     },
     "metadata": {},
     "output_type": "display_data"
    }
   ],
   "source": [
    "train.groupby([\"Survived\",\"Sex\"]).count()[\"PassengerId\"]\n",
    "\n",
    "grouped_sex=train.groupby([\"Survived\",\"Sex\"]).count()[\"PassengerId\"] #agrupacion dos variables y conteo\n",
    "print(grouped_sex)\n",
    "(grouped_sex.unstack(level=0).plot.bar()) #transpone los datos para que quede en forma de matriz sin repeticiones\n",
    "plt.show()"
   ]
  },
  {
   "cell_type": "code",
   "execution_count": 201,
   "id": "f65b574a-8087-48bb-89dc-61619d954619",
   "metadata": {},
   "outputs": [],
   "source": [
    "# De los que no sobrevivieron  hay mas hombres\n",
    "# De los que sobrevivieron hay mas mujeres"
   ]
  },
  {
   "cell_type": "code",
   "execution_count": 202,
   "id": "57226d0b-c070-4fb5-ab10-d77c984a1cb3",
   "metadata": {},
   "outputs": [
    {
     "name": "stdout",
     "output_type": "stream",
     "text": [
      "Survived  Pclass\n",
      "0         1          80\n",
      "          2          97\n",
      "          3         372\n",
      "1         1         136\n",
      "          2          87\n",
      "          3         119\n",
      "Name: PassengerId, dtype: int64\n"
     ]
    },
    {
     "data": {
      "image/png": "[encoded data removed]",
      "text/plain": [
       "<Figure size 640x480 with 1 Axes>"
      ]
     },
     "metadata": {},
     "output_type": "display_data"
    }
   ],
   "source": [
    "# para otras variables:\n",
    "train.groupby([\"Survived\",\"Pclass\"]).count()[\"PassengerId\"]\n",
    "\n",
    "grouped_sex=train.groupby([\"Survived\",\"Pclass\"]).count()[\"PassengerId\"] #agrupacion dos variables y conteo\n",
    "print(grouped_sex)\n",
    "(grouped_sex.unstack(level=0).plot.bar()) #transpone los datos para que quede en forma de matriz sin repeticiones\n",
    "plt.show()"
   ]
  },
  {
   "cell_type": "code",
   "execution_count": 203,
   "id": "8268b4d7-a21e-4093-ba3f-08a6a2e4b8b6",
   "metadata": {},
   "outputs": [],
   "source": [
    "#Sobrevivieron en clase baja casi 150, en clase media casi 100 y en clase alta mas de 100 y menos de 150"
   ]
  },
  {
   "cell_type": "markdown",
   "id": "35ed94a3-0d9e-4ee6-a26d-ff3617875ffb",
   "metadata": {},
   "source": [
    "## 3. Procesamiento de datos"
   ]
  },
  {
   "cell_type": "raw",
   "id": "156fcbab-db07-4d17-83b8-7d88f6a88156",
   "metadata": {},
   "source": [
    "Empezamos seleccionando las variables que queremos trabajar que serìan:\n",
    "* Survived \"v. dependiente\"\n",
    "* Sex\n",
    "* Age\n",
    "* Pclass"
   ]
  },
  {
   "cell_type": "code",
   "execution_count": 204,
   "id": "8a3bcea1-0300-4210-98f6-c8a689e8c34a",
   "metadata": {},
   "outputs": [
    {
     "data": {
      "text/html": [
       "<div>\n",
       "<style scoped>\n",
       "    .dataframe tbody tr th:only-of-type {\n",
       "        vertical-align: middle;\n",
       "    }\n",
       "\n",
       "    .dataframe tbody tr th {\n",
       "        vertical-align: top;\n",
       "    }\n",
       "\n",
       "    .dataframe thead th {\n",
       "        text-align: right;\n",
       "    }\n",
       "</style>\n",
       "<table border=\"1\" class=\"dataframe\">\n",
       "  <thead>\n",
       "    <tr style=\"text-align: right;\">\n",
       "      <th></th>\n",
       "      <th>Survived</th>\n",
       "      <th>Sex</th>\n",
       "      <th>Age</th>\n",
       "      <th>Pclass</th>\n",
       "    </tr>\n",
       "  </thead>\n",
       "  <tbody>\n",
       "    <tr>\n",
       "      <th>0</th>\n",
       "      <td>0</td>\n",
       "      <td>male</td>\n",
       "      <td>22.0</td>\n",
       "      <td>3</td>\n",
       "    </tr>\n",
       "    <tr>\n",
       "      <th>1</th>\n",
       "      <td>1</td>\n",
       "      <td>female</td>\n",
       "      <td>38.0</td>\n",
       "      <td>1</td>\n",
       "    </tr>\n",
       "    <tr>\n",
       "      <th>2</th>\n",
       "      <td>1</td>\n",
       "      <td>female</td>\n",
       "      <td>26.0</td>\n",
       "      <td>3</td>\n",
       "    </tr>\n",
       "  </tbody>\n",
       "</table>\n",
       "</div>"
      ],
      "text/plain": [
       "   Survived     Sex   Age  Pclass\n",
       "0         0    male  22.0       3\n",
       "1         1  female  38.0       1\n",
       "2         1  female  26.0       3"
      ]
     },
     "execution_count": 204,
     "metadata": {},
     "output_type": "execute_result"
    }
   ],
   "source": [
    "train[[\"Survived\",\"Sex\",\"Age\",\"Pclass\"]].head(3)"
   ]
  },
  {
   "cell_type": "code",
   "execution_count": 205,
   "id": "a66e224e-e614-4951-b01c-fbaf9b1fe2bb",
   "metadata": {},
   "outputs": [
    {
     "name": "stdout",
     "output_type": "stream",
     "text": [
      "<class 'pandas.core.frame.DataFrame'>\n",
      "RangeIndex: 891 entries, 0 to 890\n",
      "Data columns (total 4 columns):\n",
      " #   Column    Non-Null Count  Dtype  \n",
      "---  ------    --------------  -----  \n",
      " 0   Survived  891 non-null    int64  \n",
      " 1   Sex       891 non-null    object \n",
      " 2   Age       714 non-null    float64\n",
      " 3   Pclass    891 non-null    int64  \n",
      "dtypes: float64(1), int64(2), object(1)\n",
      "memory usage: 28.0+ KB\n"
     ]
    }
   ],
   "source": [
    "### para datos nulos:\n",
    "train[[\"Survived\",\"Sex\",\"Age\",\"Pclass\"]].info()"
   ]
  },
  {
   "cell_type": "code",
   "execution_count": 206,
   "id": "abe4e999-f461-4639-ab57-f8ac0984e747",
   "metadata": {},
   "outputs": [],
   "source": [
    "### hay datos nulos en la edad y es de tipo flotante.\n",
    "# Deben estar los datos en entero o flotante."
   ]
  },
  {
   "cell_type": "raw",
   "id": "f38d76d4-fb7e-4c75-a8aa-4105973a439b",
   "metadata": {},
   "source": [
    "Hay que mejorar los datos faltantes en Age"
   ]
  },
  {
   "cell_type": "code",
   "execution_count": 207,
   "id": "461893b8-e8a8-48cf-8c71-1a9066fb4819",
   "metadata": {},
   "outputs": [
    {
     "data": {
      "text/html": [
       "<div>\n",
       "<style scoped>\n",
       "    .dataframe tbody tr th:only-of-type {\n",
       "        vertical-align: middle;\n",
       "    }\n",
       "\n",
       "    .dataframe tbody tr th {\n",
       "        vertical-align: top;\n",
       "    }\n",
       "\n",
       "    .dataframe thead th {\n",
       "        text-align: right;\n",
       "    }\n",
       "</style>\n",
       "<table border=\"1\" class=\"dataframe\">\n",
       "  <thead>\n",
       "    <tr style=\"text-align: right;\">\n",
       "      <th>Sex</th>\n",
       "      <th>female</th>\n",
       "      <th>male</th>\n",
       "    </tr>\n",
       "    <tr>\n",
       "      <th>Pclass</th>\n",
       "      <th></th>\n",
       "      <th></th>\n",
       "    </tr>\n",
       "  </thead>\n",
       "  <tbody>\n",
       "    <tr>\n",
       "      <th>1</th>\n",
       "      <td>9</td>\n",
       "      <td>21</td>\n",
       "    </tr>\n",
       "    <tr>\n",
       "      <th>2</th>\n",
       "      <td>2</td>\n",
       "      <td>9</td>\n",
       "    </tr>\n",
       "    <tr>\n",
       "      <th>3</th>\n",
       "      <td>42</td>\n",
       "      <td>94</td>\n",
       "    </tr>\n",
       "  </tbody>\n",
       "</table>\n",
       "</div>"
      ],
      "text/plain": [
       "Sex     female  male\n",
       "Pclass              \n",
       "1            9    21\n",
       "2            2     9\n",
       "3           42    94"
      ]
     },
     "execution_count": 207,
     "metadata": {},
     "output_type": "execute_result"
    }
   ],
   "source": [
    "(train[train[\"Age\"].isna()]\n",
    " .groupby([\"Sex\",\"Pclass\"])\n",
    " .count()[\"PassengerId\"]\n",
    " .unstack(level=0))\n",
    "# ver datos nulos en edad"
   ]
  },
  {
   "cell_type": "code",
   "execution_count": 208,
   "id": "1f0f4844-a1d1-4523-bf46-ba9012eeb202",
   "metadata": {},
   "outputs": [],
   "source": [
    "## esa variable se distribuye mejor en pasajeros de 3 clase y mayormente hombres"
   ]
  },
  {
   "cell_type": "code",
   "execution_count": 209,
   "id": "19184c9b-f09d-468c-ade6-761bad9ddddb",
   "metadata": {},
   "outputs": [
    {
     "data": {
      "text/html": [
       "<div>\n",
       "<style scoped>\n",
       "    .dataframe tbody tr th:only-of-type {\n",
       "        vertical-align: middle;\n",
       "    }\n",
       "\n",
       "    .dataframe tbody tr th {\n",
       "        vertical-align: top;\n",
       "    }\n",
       "\n",
       "    .dataframe thead th {\n",
       "        text-align: right;\n",
       "    }\n",
       "</style>\n",
       "<table border=\"1\" class=\"dataframe\">\n",
       "  <thead>\n",
       "    <tr style=\"text-align: right;\">\n",
       "      <th>SibSp</th>\n",
       "      <th>0</th>\n",
       "      <th>1</th>\n",
       "      <th>2</th>\n",
       "      <th>3</th>\n",
       "      <th>8</th>\n",
       "    </tr>\n",
       "    <tr>\n",
       "      <th>Parch</th>\n",
       "      <th></th>\n",
       "      <th></th>\n",
       "      <th></th>\n",
       "      <th></th>\n",
       "      <th></th>\n",
       "    </tr>\n",
       "  </thead>\n",
       "  <tbody>\n",
       "    <tr>\n",
       "      <th>0</th>\n",
       "      <td>133.0</td>\n",
       "      <td>21.0</td>\n",
       "      <td>3.0</td>\n",
       "      <td>NaN</td>\n",
       "      <td>NaN</td>\n",
       "    </tr>\n",
       "    <tr>\n",
       "      <th>1</th>\n",
       "      <td>1.0</td>\n",
       "      <td>3.0</td>\n",
       "      <td>NaN</td>\n",
       "      <td>4.0</td>\n",
       "      <td>NaN</td>\n",
       "    </tr>\n",
       "    <tr>\n",
       "      <th>2</th>\n",
       "      <td>3.0</td>\n",
       "      <td>2.0</td>\n",
       "      <td>NaN</td>\n",
       "      <td>NaN</td>\n",
       "      <td>7.0</td>\n",
       "    </tr>\n",
       "  </tbody>\n",
       "</table>\n",
       "</div>"
      ],
      "text/plain": [
       "SibSp      0     1    2    3    8\n",
       "Parch                            \n",
       "0      133.0  21.0  3.0  NaN  NaN\n",
       "1        1.0   3.0  NaN  4.0  NaN\n",
       "2        3.0   2.0  NaN  NaN  7.0"
      ]
     },
     "execution_count": 209,
     "metadata": {},
     "output_type": "execute_result"
    }
   ],
   "source": [
    "(train[train[\"Age\"].isna()]\n",
    " .groupby([\"SibSp\",\"Parch\"])\n",
    " .count()[\"PassengerId\"]\n",
    " .unstack(level=0))"
   ]
  },
  {
   "cell_type": "code",
   "execution_count": 210,
   "id": "34d3a953-25b9-4ec3-a5c8-cc3d19409e5b",
   "metadata": {},
   "outputs": [],
   "source": [
    "# parientes, ya sea hermano, esposa, etc. De las personas que no reportaron su edad, se distribuye mas \n",
    "# en personas que viajaba sola"
   ]
  },
  {
   "cell_type": "raw",
   "id": "1ad02955-587c-4048-a1b7-0e122ae0cee1",
   "metadata": {},
   "source": [
    "De esto se puede inferir que la gente que viajaba mayormente sola era de 3 clase"
   ]
  },
  {
   "cell_type": "code",
   "execution_count": 211,
   "id": "f9142c1e-ef80-478d-91d5-59af7eb7de06",
   "metadata": {},
   "outputs": [
    {
     "data": {
      "text/plain": [
       "28.0"
      ]
     },
     "execution_count": 211,
     "metadata": {},
     "output_type": "execute_result"
    }
   ],
   "source": [
    "# calcular la mediana de Age para imputar\n",
    "train[\"Age\"].median()\n",
    "# buena edad que corresponde a hombres de 3 clase que viajan solos\n",
    "# por ende, imputarla no es tan mala\n",
    "# Se imputa para que el modelo tenga algo con que entrenar.\n",
    "# si se imputa algo incorrecto se sesga el modelo."
   ]
  },
  {
   "cell_type": "code",
   "execution_count": 212,
   "id": "cb667c44-5493-44d3-a6a7-fea4326aeb10",
   "metadata": {},
   "outputs": [
    {
     "name": "stdout",
     "output_type": "stream",
     "text": [
      "<class 'pandas.core.frame.DataFrame'>\n",
      "RangeIndex: 891 entries, 0 to 890\n",
      "Data columns (total 4 columns):\n",
      " #   Column    Non-Null Count  Dtype  \n",
      "---  ------    --------------  -----  \n",
      " 0   Survived  891 non-null    int64  \n",
      " 1   Sex       891 non-null    object \n",
      " 2   Age       891 non-null    float64\n",
      " 3   Pclass    891 non-null    int64  \n",
      "dtypes: float64(1), int64(2), object(1)\n",
      "memory usage: 28.0+ KB\n"
     ]
    }
   ],
   "source": [
    "# imputar valor para rellenarr nulos\n",
    "train[\"Age\"] = train[\"Age\"].fillna(28.0)\n",
    "train[[\"Survived\",\"Sex\",\"Age\",\"Pclass\"]].info()\n",
    "# el 28 lo hemos puesto con cuidado\n",
    "# no perdimos la informacion"
   ]
  },
  {
   "cell_type": "code",
   "execution_count": 213,
   "id": "bc1ba64a-d6e9-4e99-a4d9-e193aa6a637f",
   "metadata": {},
   "outputs": [],
   "source": [
    "# map para label encoding\n",
    "train[\"Sex\"]=train[\"Sex\"].map({\"female\":1,\"male\":0}).astype(int)\n",
    "#para cambiar de object a entero\n",
    "# a la variable de genero o sexo se le pasa un mapeo.\n",
    "#todas las mujeres se mapean a 1\n",
    "#todos los hombres se mapean a 0"
   ]
  },
  {
   "cell_type": "raw",
   "id": "f18849b2-ac02-4db0-9db3-a22a298dab62",
   "metadata": {},
   "source": [
    "Ahora tenemos la tabla preprocesada lisa"
   ]
  },
  {
   "cell_type": "code",
   "execution_count": 214,
   "id": "fc90f971-ca52-4605-b8b0-c24ac9973cff",
   "metadata": {},
   "outputs": [
    {
     "data": {
      "text/html": [
       "<div>\n",
       "<style scoped>\n",
       "    .dataframe tbody tr th:only-of-type {\n",
       "        vertical-align: middle;\n",
       "    }\n",
       "\n",
       "    .dataframe tbody tr th {\n",
       "        vertical-align: top;\n",
       "    }\n",
       "\n",
       "    .dataframe thead th {\n",
       "        text-align: right;\n",
       "    }\n",
       "</style>\n",
       "<table border=\"1\" class=\"dataframe\">\n",
       "  <thead>\n",
       "    <tr style=\"text-align: right;\">\n",
       "      <th></th>\n",
       "      <th>Survived</th>\n",
       "      <th>Sex</th>\n",
       "      <th>Age</th>\n",
       "      <th>Pclass</th>\n",
       "    </tr>\n",
       "  </thead>\n",
       "  <tbody>\n",
       "    <tr>\n",
       "      <th>0</th>\n",
       "      <td>0</td>\n",
       "      <td>0</td>\n",
       "      <td>22.0</td>\n",
       "      <td>3</td>\n",
       "    </tr>\n",
       "    <tr>\n",
       "      <th>1</th>\n",
       "      <td>1</td>\n",
       "      <td>1</td>\n",
       "      <td>38.0</td>\n",
       "      <td>1</td>\n",
       "    </tr>\n",
       "    <tr>\n",
       "      <th>2</th>\n",
       "      <td>1</td>\n",
       "      <td>1</td>\n",
       "      <td>26.0</td>\n",
       "      <td>3</td>\n",
       "    </tr>\n",
       "  </tbody>\n",
       "</table>\n",
       "</div>"
      ],
      "text/plain": [
       "   Survived  Sex   Age  Pclass\n",
       "0         0    0  22.0       3\n",
       "1         1    1  38.0       1\n",
       "2         1    1  26.0       3"
      ]
     },
     "execution_count": 214,
     "metadata": {},
     "output_type": "execute_result"
    }
   ],
   "source": [
    "train[[\"Survived\",\"Sex\",\"Age\",\"Pclass\"]].head(3)\n"
   ]
  },
  {
   "cell_type": "raw",
   "id": "f3596993-8398-4d56-91eb-0940c13dc183",
   "metadata": {},
   "source": [
    "3.1. Crear nuevas variables"
   ]
  },
  {
   "cell_type": "code",
   "execution_count": 215,
   "id": "e3c09d4a-2996-4cf8-858e-88abf827939f",
   "metadata": {},
   "outputs": [
    {
     "name": "stdout",
     "output_type": "stream",
     "text": [
      "Survived  FlagSolo\n",
      "0         0           175\n",
      "          1           374\n",
      "1         0           179\n",
      "          1           163\n",
      "Name: PassengerId, dtype: int64\n"
     ]
    },
    {
     "data": {
      "image/png": "[encoded data removed]",
      "text/plain": [
       "<Figure size 640x480 with 1 Axes>"
      ]
     },
     "metadata": {},
     "output_type": "display_data"
    }
   ],
   "source": [
    "# crear nueva variable tipo flag \"viaja sola\"\n",
    "train[\"FlagSolo\"]=np.where(\n",
    "    (train[\"SibSp\"]==0)&(train[\"Parch\"]==0),1,0)\n",
    "#nueva variable \"flagsolo\" - dicotomica, 1 cuando se cumple condicion\n",
    "#viaja solo sin siblings o esposa o sin parientes o hijos\n",
    "train.groupby([\"Survived\",\"Pclass\"]).count()[\"PassengerId\"]\n",
    "\n",
    "grouped_flag=train.groupby([\"Survived\",\"FlagSolo\"]).count()[\"PassengerId\"] \n",
    "print(grouped_flag)\n",
    "(grouped_flag.unstack(level=0).plot.bar()) #transpone los datos para que quede en forma de matriz sin repeticiones\n",
    "plt.show()\n"
   ]
  },
  {
   "cell_type": "code",
   "execution_count": 216,
   "id": "7aee5cb8-2638-43ac-8ee7-01db4218af72",
   "metadata": {},
   "outputs": [
    {
     "data": {
      "text/html": [
       "<div>\n",
       "<style scoped>\n",
       "    .dataframe tbody tr th:only-of-type {\n",
       "        vertical-align: middle;\n",
       "    }\n",
       "\n",
       "    .dataframe tbody tr th {\n",
       "        vertical-align: top;\n",
       "    }\n",
       "\n",
       "    .dataframe thead th {\n",
       "        text-align: right;\n",
       "    }\n",
       "</style>\n",
       "<table border=\"1\" class=\"dataframe\">\n",
       "  <thead>\n",
       "    <tr style=\"text-align: right;\">\n",
       "      <th></th>\n",
       "      <th>Survived</th>\n",
       "      <th>Sex</th>\n",
       "      <th>Age</th>\n",
       "      <th>Pclass</th>\n",
       "      <th>FlagSolo</th>\n",
       "    </tr>\n",
       "  </thead>\n",
       "  <tbody>\n",
       "    <tr>\n",
       "      <th>0</th>\n",
       "      <td>0</td>\n",
       "      <td>0</td>\n",
       "      <td>22.0</td>\n",
       "      <td>3</td>\n",
       "      <td>0</td>\n",
       "    </tr>\n",
       "    <tr>\n",
       "      <th>1</th>\n",
       "      <td>1</td>\n",
       "      <td>1</td>\n",
       "      <td>38.0</td>\n",
       "      <td>1</td>\n",
       "      <td>0</td>\n",
       "    </tr>\n",
       "    <tr>\n",
       "      <th>2</th>\n",
       "      <td>1</td>\n",
       "      <td>1</td>\n",
       "      <td>26.0</td>\n",
       "      <td>3</td>\n",
       "      <td>1</td>\n",
       "    </tr>\n",
       "  </tbody>\n",
       "</table>\n",
       "</div>"
      ],
      "text/plain": [
       "   Survived  Sex   Age  Pclass  FlagSolo\n",
       "0         0    0  22.0       3         0\n",
       "1         1    1  38.0       1         0\n",
       "2         1    1  26.0       3         1"
      ]
     },
     "execution_count": 216,
     "metadata": {},
     "output_type": "execute_result"
    }
   ],
   "source": [
    "# los que tienen flagsolo=0 \"no viajan solos\" su supervivencia es mas o menos igual\n",
    "#pero los que si viajan solo tienen el 0 mas elevado, mas tendencia a no sobrevivir\n",
    "train[[\"Survived\",\"Sex\",\"Age\",\"Pclass\",\"FlagSolo\"]].head(3)"
   ]
  },
  {
   "cell_type": "raw",
   "id": "96afab07-2f7c-4619-9222-1507a6215eb8",
   "metadata": {},
   "source": [
    "Estos ya serian los datos con los que vamos a hacer modelos"
   ]
  },
  {
   "cell_type": "code",
   "execution_count": 217,
   "id": "c18cfdd1-6efc-46fb-b66a-5a2ed0d5d152",
   "metadata": {},
   "outputs": [
    {
     "name": "stdout",
     "output_type": "stream",
     "text": [
      "(891,) (891, 4)\n"
     ]
    }
   ],
   "source": [
    "# Variable dependiente:\n",
    "Y_train=train[\"Survived\"]\n",
    "\n",
    "# Preprocesamiento de variables independientes\n",
    "features = [\"Sex\",\"Age\",\"Pclass\",\"FlagSolo\"]\n",
    "X_train=train[features]\n",
    "\n",
    "print(Y_train.shape, X_train.shape)\n",
    "#una con solo una variable y 891 registros\n",
    "# la otra con varias variables y la misma cantidad de registros"
   ]
  },
  {
   "cell_type": "markdown",
   "id": "4b14a0a1-bdbd-484b-8e37-505d42663197",
   "metadata": {},
   "source": [
    "## 4. Modelos"
   ]
  },
  {
   "cell_type": "raw",
   "id": "470a8e4d-46f9-4a0f-ac89-a9ead587ee23",
   "metadata": {},
   "source": [
    "2 modelos de prueba:\n",
    "    *Regresion logistica\n",
    "    * Arboles de decision"
   ]
  },
  {
   "cell_type": "code",
   "execution_count": 218,
   "id": "0f05555a-3d27-45ef-9d56-72783c884c7b",
   "metadata": {},
   "outputs": [
    {
     "data": {
      "text/plain": [
       "LogisticRegression()"
      ]
     },
     "execution_count": 218,
     "metadata": {},
     "output_type": "execute_result"
    }
   ],
   "source": [
    "# entrenando modelo regresion logistica\n",
    "from sklearn.linear_model import LogisticRegression #libreria sklearn y modulo linear model, en donde esta el objeto de logistic regresion\n",
    "\n",
    "logreg = LogisticRegression() #se crea instancia del objeto\n",
    "logreg.fit(X_train, Y_train) #entrenamiento"
   ]
  },
  {
   "cell_type": "code",
   "execution_count": 219,
   "id": "5a03b188-d046-4683-8beb-86de48f07eb3",
   "metadata": {},
   "outputs": [
    {
     "data": {
      "text/plain": [
       "DecisionTreeClassifier()"
      ]
     },
     "execution_count": 219,
     "metadata": {},
     "output_type": "execute_result"
    }
   ],
   "source": [
    "# Entrenando modelo arboles de decision\n",
    "from sklearn.tree import DecisionTreeClassifier #submodulo de tree y vemos el decisiontreeclassifier\n",
    "decision_tree = DecisionTreeClassifier\n",
    "\n",
    "decision_tree = DecisionTreeClassifier()\n",
    "decision_tree.fit(X_train, Y_train)"
   ]
  },
  {
   "cell_type": "markdown",
   "id": "5fc74d79-4125-485a-8982-033073563e36",
   "metadata": {},
   "source": [
    "## 5. Evaluaciòn"
   ]
  },
  {
   "cell_type": "raw",
   "id": "97ed817a-a656-4f0e-bc4f-fcc9b513663c",
   "metadata": {},
   "source": [
    "Aca vamos a hacer una matriz de confusion y evaluar que tan bueno es cada modelo"
   ]
  },
  {
   "cell_type": "code",
   "execution_count": 220,
   "id": "064e1431-6cd8-4d66-b032-334345f59e41",
   "metadata": {},
   "outputs": [],
   "source": [
    "from sklearn.metrics import plot_confusion_matrix #submodulo de metricas\n",
    "\n",
    "def conf_mat_acc(modelo):\n",
    "    disp = plot_confusion_matrix(modelo,X_train, Y_train,\n",
    "                                 cmap=plt.cm.Blues, values_format=\"d\")\n",
    "    true_pred = disp.confusion_matrix[0,0]+disp.confusion_matrix[1,1]\n",
    "    total_data = np.sum(disp.confusion_matrix)\n",
    "    accuracy = true_pred/total_data\n",
    "    print(\"accuracy: \",np.round(accuracy,2))\n",
    "    plt.show()"
   ]
  },
  {
   "cell_type": "code",
   "execution_count": 221,
   "id": "42b5f509-d5c5-4de9-b64d-8a101ddfcedf",
   "metadata": {},
   "outputs": [],
   "source": [
    "#matriz en donde vamos a tener los valores predichos \"dice modelo\" y los valores reales \"lo que tenemos de antemano\",\n",
    "# si se cumple 1"
   ]
  },
  {
   "cell_type": "code",
   "execution_count": 222,
   "id": "5fafd5db-6d48-4877-8b3a-fa431fca62bb",
   "metadata": {},
   "outputs": [
    {
     "name": "stderr",
     "output_type": "stream",
     "text": [
      "C:\\Users\\LAURA\\anaconda3\\lib\\site-packages\\sklearn\\utils\\deprecation.py:87: FutureWarning: Function plot_confusion_matrix is deprecated; Function `plot_confusion_matrix` is deprecated in 1.0 and will be removed in 1.2. Use one of the class methods: ConfusionMatrixDisplay.from_predictions or ConfusionMatrixDisplay.from_estimator.\n",
      "  warnings.warn(msg, category=FutureWarning)\n"
     ]
    },
    {
     "name": "stdout",
     "output_type": "stream",
     "text": [
      "accuracy:  0.79\n"
     ]
    },
    {
     "data": {
      "image/png": "[encoded data removed]",
      "text/plain": [
       "<Figure size 640x480 with 2 Axes>"
      ]
     },
     "metadata": {},
     "output_type": "display_data"
    }
   ],
   "source": [
    "conf_mat_acc(logreg)"
   ]
  },
  {
   "cell_type": "code",
   "execution_count": 223,
   "id": "7d9fd1a6-14e8-47de-b005-f9a875940cd0",
   "metadata": {},
   "outputs": [],
   "source": [
    "#accuracy: es la precision\n",
    "#0,79: 455+247/(455+94+95+247)\n",
    "#true label: valor real\n",
    "#predict label: el predicho\n",
    "# el 455 significa que en los datos reales hay 455 que estan etiquetados como cero\n",
    "# y que nuestro modelo ha predicho correctamente como 0\n",
    "# 247 datos que en nuestra tabla estaban marcado como 1 \"si sobrevivio\" y que lo predijo el modelo\n",
    "#es que tambien sobrevivio\n",
    "\n",
    "# por otra parte, las esquinas son los errores\n",
    "# 94 estaban marcados como cero pero el modelo predijo incorrectamente como 1\n",
    "# el 95 son los que en la tabla eran 1 y predijimos como 0"
   ]
  },
  {
   "cell_type": "raw",
   "id": "560440b1-98be-492e-bdec-fe291378b81e",
   "metadata": {},
   "source": [
    "El mejor modelo es el que ponga todo en la diagonal y lo demas sea cero\n",
    "la realidad estadistica es que no se puede, pero hay que reducir el error"
   ]
  },
  {
   "cell_type": "code",
   "execution_count": 224,
   "id": "c2ddd94d-6d24-4a10-b360-cbacf968f179",
   "metadata": {},
   "outputs": [
    {
     "name": "stderr",
     "output_type": "stream",
     "text": [
      "C:\\Users\\LAURA\\anaconda3\\lib\\site-packages\\sklearn\\utils\\deprecation.py:87: FutureWarning: Function plot_confusion_matrix is deprecated; Function `plot_confusion_matrix` is deprecated in 1.0 and will be removed in 1.2. Use one of the class methods: ConfusionMatrixDisplay.from_predictions or ConfusionMatrixDisplay.from_estimator.\n",
      "  warnings.warn(msg, category=FutureWarning)\n"
     ]
    },
    {
     "name": "stdout",
     "output_type": "stream",
     "text": [
      "accuracy:  0.89\n"
     ]
    },
    {
     "data": {
      "image/png": "[encoded data removed]",
      "text/plain": [
       "<Figure size 640x480 with 2 Axes>"
      ]
     },
     "metadata": {},
     "output_type": "display_data"
    }
   ],
   "source": [
    "conf_mat_acc(decision_tree)"
   ]
  },
  {
   "cell_type": "code",
   "execution_count": 225,
   "id": "55e4b7f5-9551-4cd4-9b8c-68ec9d301a27",
   "metadata": {},
   "outputs": [],
   "source": [
    "## tenemos menor error en principio, ya que presenta un mejor accuaracy y menor error"
   ]
  },
  {
   "cell_type": "raw",
   "id": "ec59f7bf-6e13-4e3f-a438-b654c29419aa",
   "metadata": {},
   "source": [
    "En principio ya que la matriz de confusion la estamos haciendo por el lado de entrenamiento y esto puede dar evaluaciones sesgadas\n",
    "Estamos utilizando los mismos datos de entrenamineto en la evaluacion"
   ]
  },
  {
   "cell_type": "raw",
   "id": "ce4098e8-2178-4a80-ad02-eafe8b4558ea",
   "metadata": {},
   "source": [
    "ya hicimos train sigue el test set, ya entrenamos el modelo, ahora hay que verificar que son datos que el modelo no ha visto y ahora tenemos que clasificar.\n",
    "Test set sin col de supervivencia para que yo haga las predicciones."
   ]
  },
  {
   "cell_type": "markdown",
   "id": "b7e979c8-c9aa-496f-99b7-eaa6ad702382",
   "metadata": {},
   "source": [
    "## 5.1 Evaluacion sobre el test set"
   ]
  },
  {
   "cell_type": "raw",
   "id": "ddd52f2a-3d8b-464f-bc88-b613b793ec81",
   "metadata": {},
   "source": [
    "Antes hicimos la matriz de confusión sobre el train set. Esto no es del todo correcto porque estamos utilizando como validación los datos que usamos de entrenamiento. Por lo tanto, la estimación del error sería sesgada y tendría poca capacidad de generalización a casos que no haya \"visto\" el modelo.\n",
    "\n",
    "Por eso necesitamos utilizar el test set. Sin embargo, Kaggle no nos regresa el valor real del test set, para verificarlo tenemos que enviar nuestros resultados y mirar el score que pone kaggle esto lo veremos más adelante"
   ]
  },
  {
   "cell_type": "code",
   "execution_count": 226,
   "id": "9d361eb9-6128-4308-89b0-e1cdd8e90de8",
   "metadata": {},
   "outputs": [
    {
     "name": "stdout",
     "output_type": "stream",
     "text": [
      "   PassengerId  Pclass                              Name     Sex   Age  SibSp  \\\n",
      "0          892       3                  Kelly, Mr. James    male  34.5      0   \n",
      "1          893       3  Wilkes, Mrs. James (Ellen Needs)  female  47.0      1   \n",
      "2          894       2         Myles, Mr. Thomas Francis    male  62.0      0   \n",
      "\n",
      "   Parch  Ticket    Fare Cabin Embarked  \n",
      "0      0  330911  7.8292   NaN        Q  \n",
      "1      0  363272  7.0000   NaN        S  \n",
      "2      0  240276  9.6875   NaN        Q  \n",
      "<class 'pandas.core.frame.DataFrame'>\n",
      "RangeIndex: 418 entries, 0 to 417\n",
      "Data columns (total 11 columns):\n",
      " #   Column       Non-Null Count  Dtype  \n",
      "---  ------       --------------  -----  \n",
      " 0   PassengerId  418 non-null    int64  \n",
      " 1   Pclass       418 non-null    int64  \n",
      " 2   Name         418 non-null    object \n",
      " 3   Sex          418 non-null    object \n",
      " 4   Age          332 non-null    float64\n",
      " 5   SibSp        418 non-null    int64  \n",
      " 6   Parch        418 non-null    int64  \n",
      " 7   Ticket       418 non-null    object \n",
      " 8   Fare         417 non-null    float64\n",
      " 9   Cabin        91 non-null     object \n",
      " 10  Embarked     418 non-null    object \n",
      "dtypes: float64(2), int64(4), object(5)\n",
      "memory usage: 36.0+ KB\n"
     ]
    }
   ],
   "source": [
    "# ahora hay que preparar el test set para evaluación\n",
    "print(test.head(3))\n",
    "test.info()"
   ]
  },
  {
   "cell_type": "code",
   "execution_count": 180,
   "id": "de0a10d5-45bd-4c2c-963b-9ab9b467b368",
   "metadata": {},
   "outputs": [],
   "source": [
    "# datos parecidos al anterior pero sin la variable de supervivencia"
   ]
  },
  {
   "cell_type": "code",
   "execution_count": 227,
   "id": "f67cb7b1-d74d-4aab-9bf9-786f8cdbc6cf",
   "metadata": {},
   "outputs": [],
   "source": [
    "#(train[train[\"Age\"].isna()]\n",
    " #.groupby([\"Sex\",\"Pclass\"])\n",
    " #.count()[\"PassengerId\"]\n",
    " #.unstack(level=0))\n",
    "\n",
    "# ver datos nulos en edad\n",
    "#train[\"Age\"] = train[\"Age\"].fillna(28.0)\n",
    "#train[[\"Sex\",\"Age\",\"Pclass\"]].info()\n",
    "\n",
    "# hacer map a Sex\n",
    "test[\"Sex\"] = test[\"Sex\"].map({\"female\": 1, \"male\": 0}).astype(int) #se vuelve entero el objeto\n",
    "\n",
    "# rellenar Age\n",
    "test['Age'] = test['Age'].fillna(28.0)\n",
    "\n",
    "# Crear FlagSolo\n",
    "test['FlagSolo'] = np.where(\n",
    "    (test['SibSp'] == 0) & (test['Parch'] == 0), 1, 0)"
   ]
  },
  {
   "cell_type": "code",
   "execution_count": 228,
   "id": "44962475-3572-471c-8b95-d1ced88f3d50",
   "metadata": {},
   "outputs": [
    {
     "name": "stdout",
     "output_type": "stream",
     "text": [
      "<class 'pandas.core.frame.DataFrame'>\n",
      "RangeIndex: 418 entries, 0 to 417\n",
      "Data columns (total 12 columns):\n",
      " #   Column       Non-Null Count  Dtype  \n",
      "---  ------       --------------  -----  \n",
      " 0   PassengerId  418 non-null    int64  \n",
      " 1   Pclass       418 non-null    int64  \n",
      " 2   Name         418 non-null    object \n",
      " 3   Sex          418 non-null    int32  \n",
      " 4   Age          418 non-null    float64\n",
      " 5   SibSp        418 non-null    int64  \n",
      " 6   Parch        418 non-null    int64  \n",
      " 7   Ticket       418 non-null    object \n",
      " 8   Fare         417 non-null    float64\n",
      " 9   Cabin        91 non-null     object \n",
      " 10  Embarked     418 non-null    object \n",
      " 11  FlagSolo     418 non-null    int32  \n",
      "dtypes: float64(2), int32(2), int64(4), object(4)\n",
      "memory usage: 36.0+ KB\n",
      "None\n"
     ]
    },
    {
     "data": {
      "text/html": [
       "<div>\n",
       "<style scoped>\n",
       "    .dataframe tbody tr th:only-of-type {\n",
       "        vertical-align: middle;\n",
       "    }\n",
       "\n",
       "    .dataframe tbody tr th {\n",
       "        vertical-align: top;\n",
       "    }\n",
       "\n",
       "    .dataframe thead th {\n",
       "        text-align: right;\n",
       "    }\n",
       "</style>\n",
       "<table border=\"1\" class=\"dataframe\">\n",
       "  <thead>\n",
       "    <tr style=\"text-align: right;\">\n",
       "      <th></th>\n",
       "      <th>Sex</th>\n",
       "      <th>Age</th>\n",
       "      <th>Pclass</th>\n",
       "      <th>FlagSolo</th>\n",
       "    </tr>\n",
       "  </thead>\n",
       "  <tbody>\n",
       "    <tr>\n",
       "      <th>0</th>\n",
       "      <td>0</td>\n",
       "      <td>34.5</td>\n",
       "      <td>3</td>\n",
       "      <td>1</td>\n",
       "    </tr>\n",
       "    <tr>\n",
       "      <th>1</th>\n",
       "      <td>1</td>\n",
       "      <td>47.0</td>\n",
       "      <td>3</td>\n",
       "      <td>0</td>\n",
       "    </tr>\n",
       "    <tr>\n",
       "      <th>2</th>\n",
       "      <td>0</td>\n",
       "      <td>62.0</td>\n",
       "      <td>2</td>\n",
       "      <td>1</td>\n",
       "    </tr>\n",
       "  </tbody>\n",
       "</table>\n",
       "</div>"
      ],
      "text/plain": [
       "   Sex   Age  Pclass  FlagSolo\n",
       "0    0  34.5       3         1\n",
       "1    1  47.0       3         0\n",
       "2    0  62.0       2         1"
      ]
     },
     "execution_count": 228,
     "metadata": {},
     "output_type": "execute_result"
    }
   ],
   "source": [
    "print(test.info())\n",
    "test[features].head(3)"
   ]
  },
  {
   "cell_type": "code",
   "execution_count": 229,
   "id": "26d74e4a-c95b-4591-aeae-2858b9f7b89d",
   "metadata": {},
   "outputs": [
    {
     "name": "stdout",
     "output_type": "stream",
     "text": [
      "(418, 4)\n"
     ]
    }
   ],
   "source": [
    "# crear test set \n",
    "X_test = test[features]\n",
    "\n",
    "print(X_test.shape)"
   ]
  },
  {
   "cell_type": "code",
   "execution_count": 230,
   "id": "434591d3-5c36-4236-82f1-17d095b79127",
   "metadata": {},
   "outputs": [
    {
     "name": "stdout",
     "output_type": "stream",
     "text": [
      "[0 0 0 0 1 0 1 0 1 0]\n"
     ]
    }
   ],
   "source": [
    "# prediccion de Survived en test set\n",
    "Y_pred_log = logreg.predict(X_test)\n",
    "Y_pred_tree = decision_tree.predict(X_test)\n",
    "print(Y_pred_log[0:10])\n",
    "## prediccion para ambos modelos"
   ]
  },
  {
   "cell_type": "raw",
   "id": "5b953e4c-e81b-4dd7-bca4-9cec0e3846c0",
   "metadata": {},
   "source": [
    "Nota: Estas predicciones deberían ser ahora comparadas con el valor real para obtener una mejor estimación del error de predicción sobre el test set y poder escoger un modelo.\n",
    "\n",
    "Sin embargo, como es una competicion de Kaggle este valor solo lo conoce la plataforma.\n",
    "\n",
    "Vamos a exportar estos CSV y luego subirlos para ver cual tiene mejor rendimiento."
   ]
  },
  {
   "cell_type": "raw",
   "id": "8f85c27a-f74e-4aa1-8094-808360e00e71",
   "metadata": {},
   "source": [
    "Esas predicciones de 0 y 1s son los que se comparan con datos reales en kaggle\n",
    "ya que ellos son los unicos que tiene acceso a datos reales \"en este caso\""
   ]
  },
  {
   "cell_type": "markdown",
   "id": "99b9c731-4a69-49e6-b853-0b5b252cff6c",
   "metadata": {},
   "source": [
    "## 6. Predicción"
   ]
  },
  {
   "cell_type": "code",
   "execution_count": 231,
   "id": "56ecc97b-10f7-4711-92ab-f41f1f72dab6",
   "metadata": {},
   "outputs": [
    {
     "name": "stdout",
     "output_type": "stream",
     "text": [
      "[0 0 0 0 1 0 1 0 1 0 0 0 1 0 1 1 0 0 1 0]\n",
      "[0 0 1 1 0 0 0 0 0 0 0 0 1 0 1 1 0 0 1 0]\n"
     ]
    }
   ],
   "source": [
    "# prediciendo sobre el test set\n",
    "print(Y_pred_log[0:20]) #primeros 20 pasajeros\n",
    "print(Y_pred_tree[0:20])"
   ]
  },
  {
   "cell_type": "code",
   "execution_count": 232,
   "id": "1f5db18c-cf89-4ebf-a725-b9319a2b4de7",
   "metadata": {},
   "outputs": [],
   "source": [
    "# para descargar en ordenador\n",
    "def download_output(y_pred, name):\n",
    "  output = pd.DataFrame({'PassengerId': test.PassengerId, \n",
    "                         'Survived': y_pred})\n",
    "  output.to_csv(name, index=False)\n",
    "#esa funcion genera el dataframe con id pasajero y prediccion   "
   ]
  },
  {
   "cell_type": "code",
   "execution_count": 234,
   "id": "c8bfefc9-4c90-4614-99e2-849ff3f7ce79",
   "metadata": {},
   "outputs": [],
   "source": [
    "download_output(Y_pred_log, 'seba_pred_log.csv')\n",
    "download_output(Y_pred_tree, 'seba_pred_tree.csv')"
   ]
  },
  {
   "cell_type": "raw",
   "id": "77421184-05c8-4f8f-b947-9cc40fbefd8f",
   "metadata": {},
   "source": [
    "Luego de hacer el envio a kaggle: en submit y veo el puntaje"
   ]
  },
  {
   "cell_type": "raw",
   "id": "601bc03a-0a48-404c-9077-1b80867802e5",
   "metadata": {},
   "source": [
    "Con lo que muestra que en el test_set hay un mejor valor para accuracy que con train set.\n",
    "\n",
    "Por esta razón, nos quedaríamos con el modelo de regresión logística. Porque generaliza mejor las predicciones para datos con los que no se ha entrenado el modelo."
   ]
  },
  {
   "cell_type": "markdown",
   "id": "5123d2c3-3c34-44df-9023-30a8fc94cae6",
   "metadata": {},
   "source": [
    "## Conclusion"
   ]
  },
  {
   "cell_type": "raw",
   "id": "b2e77e85-ec4d-47b8-ad7b-ba41ef32b4d8",
   "metadata": {},
   "source": [
    "Importante del análisis exploratorio\n",
    "creación de variables\n",
    "probar varios modelos\n",
    "calculo del error con el test_set\n",
    "vimos (casi) todo el proceso de ciencia de datos en un ejemplo"
   ]
  },
  {
   "cell_type": "markdown",
   "id": "ad324ab0-29dd-4427-aa0b-6374dfb6670d",
   "metadata": {},
   "source": [
    "### proximos pasos"
   ]
  },
  {
   "cell_type": "code",
   "execution_count": null,
   "id": "0dafdb2f-9678-4b2b-b190-26b309d079fe",
   "metadata": {},
   "outputs": [],
   "source": [
    "Ahora, lo que vendría sería desplegar este modelo a producción, hacer predicciones según lo necesite el usuario, hacer seguimiento y realizar el mantenimiento del despliegue.\n",
    "\n",
    "Similar a como se describe superficialmente aquí https://cloud.google.com/ai-platform/docs/ml-solutions-overview\n",
    "\n",
    "Sin embargo, estás etapas corresponden abarcan pasos relacionados a la ingeniería de software o devops que no serán cubiertos en este notebook."
   ]
  }
 ],
 "metadata": {
  "kernelspec": {
   "display_name": "Python 3 (ipykernel)",
   "language": "python",
   "name": "python3"
  },
  "language_info": {
   "codemirror_mode": {
    "name": "ipython",
    "version": 3
   },
   "file_extension": ".py",
   "mimetype": "text/x-python",
   "name": "python",
   "nbconvert_exporter": "python",
   "pygments_lexer": "ipython3",
   "version": "3.9.13"
  }
 },
 "nbformat": 4,
 "nbformat_minor": 5
}
